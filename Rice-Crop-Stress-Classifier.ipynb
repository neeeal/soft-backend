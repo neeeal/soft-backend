{
 "cells": [
  {
   "cell_type": "code",
   "execution_count": 1,
   "id": "c5d2e647",
   "metadata": {
    "scrolled": true
   },
   "outputs": [],
   "source": [
    "import os\n",
    "import pandas as pd\n",
    "import numpy as np\n",
    "from sklearn.model_selection import train_test_split\n",
    "from tensorflow.keras.preprocessing.image import ImageDataGenerator\n",
    "from tensorflow.keras.utils import to_categorical\n",
    "import tensorflow_hub as hub\n",
    "import tensorflow as tf"
   ]
  },
  {
   "cell_type": "code",
   "execution_count": 2,
   "id": "27014972",
   "metadata": {},
   "outputs": [],
   "source": [
    "data = \"C:/Users/Christian Musni/Downloads/dataset\""
   ]
  },
  {
   "cell_type": "code",
   "execution_count": 3,
   "id": "f66b407a",
   "metadata": {},
   "outputs": [],
   "source": [
    "class_names = os.listdir(data)\n",
    "class_paths = [os.path.join(data, cls) for cls in class_names]"
   ]
  },
  {
   "cell_type": "code",
   "execution_count": 4,
   "id": "14b15292",
   "metadata": {},
   "outputs": [],
   "source": [
    "num_classes = len(class_names)"
   ]
  },
  {
   "cell_type": "code",
   "execution_count": 5,
   "id": "97f52bcf",
   "metadata": {},
   "outputs": [],
   "source": [
    "file_paths = []\n",
    "labels = []"
   ]
  },
  {
   "cell_type": "code",
   "execution_count": 6,
   "id": "0dbdc797",
   "metadata": {},
   "outputs": [],
   "source": [
    "for idx, class_path in enumerate(class_paths):\n",
    "    files = os.listdir(class_path)\n",
    "    file_paths.extend([os.path.join(class_path, file) for file in files])\n",
    "    labels.extend([idx] * len(files))"
   ]
  },
  {
   "cell_type": "code",
   "execution_count": 7,
   "id": "d0ec3cf1",
   "metadata": {},
   "outputs": [],
   "source": [
    "# Split the data into train and test sets\n",
    "train_files, test_files, train_labels, test_labels = train_test_split(file_paths, labels, test_size=0.2, random_state=42)"
   ]
  },
  {
   "cell_type": "code",
   "execution_count": 8,
   "id": "c9f81e76",
   "metadata": {},
   "outputs": [
    {
     "name": "stdout",
     "output_type": "stream",
     "text": [
      "Found 807 images belonging to 10 classes.\n",
      "Found 199 images belonging to 10 classes.\n"
     ]
    }
   ],
   "source": [
    "# Define data augmentation for both training and validation data\n",
    "datagen = ImageDataGenerator(\n",
    "    rescale=1./255,\n",
    "    shear_range=0.2,\n",
    "    zoom_range=0.2,\n",
    "    horizontal_flip=True,\n",
    "    validation_split=0.2  # 20% validation split\n",
    ")\n",
    "\n",
    "# Set the target image size\n",
    "target_size = (224, 224)  # Adjust based on your EfficientNetV2 input size\n",
    "\n",
    "# Create train and validation generators\n",
    "train_generator = datagen.flow_from_directory(\n",
    "    data,\n",
    "    target_size=target_size,\n",
    "    batch_size=32,\n",
    "    class_mode='categorical',\n",
    "    subset='training'\n",
    ")\n",
    "\n",
    "validation_generator = datagen.flow_from_directory(\n",
    "    data,\n",
    "    target_size=target_size,\n",
    "    batch_size=32,\n",
    "    class_mode='categorical',\n",
    "    subset='validation'\n",
    ")"
   ]
  },
  {
   "cell_type": "code",
   "execution_count": 9,
   "id": "bc93ee37",
   "metadata": {},
   "outputs": [],
   "source": [
    "# Define the EfficientNetV2 model from TensorFlow Hub\n",
    "efficientnetv2_url = 'https://tfhub.dev/google/imagenet/efficientnet_v2_imagenet1k_l/feature_vector/2'\n",
    "efficientnetv2 = hub.KerasLayer(efficientnetv2_url)\n",
    "\n",
    "# Create a new model on top of EfficientNetV2\n",
    "model = tf.keras.Sequential([\n",
    "    efficientnetv2,\n",
    "    # tf.keras.layers.Dense(128, activation = 'relu'),\n",
    "    # tf.keras.layers.Dense(64, activation = 'relu'),\n",
    "    tf.keras.layers.Dense(len(class_names), activation='softmax')\n",
    "])"
   ]
  },
  {
   "cell_type": "code",
   "execution_count": 10,
   "id": "a94def14",
   "metadata": {},
   "outputs": [],
   "source": [
    "model.compile(optimizer='adam', loss='categorical_crossentropy', metrics=['accuracy'])"
   ]
  },
  {
   "cell_type": "code",
   "execution_count": 11,
   "id": "5197c1f1",
   "metadata": {},
   "outputs": [
    {
     "name": "stdout",
     "output_type": "stream",
     "text": [
      "Epoch 1/3\n",
      "26/26 [==============================] - 58s 895ms/step - loss: 1.9259 - accuracy: 0.4002 - val_loss: 1.5982 - val_accuracy: 0.5779\n",
      "Epoch 2/3\n",
      "26/26 [==============================] - 20s 753ms/step - loss: 1.3108 - accuracy: 0.6530 - val_loss: 1.2895 - val_accuracy: 0.5980\n",
      "Epoch 3/3\n",
      "26/26 [==============================] - 30s 1s/step - loss: 1.0185 - accuracy: 0.7175 - val_loss: 1.1684 - val_accuracy: 0.5829\n"
     ]
    },
    {
     "data": {
      "text/plain": [
       "<keras.callbacks.History at 0x1ea9d24bf40>"
      ]
     },
     "execution_count": 11,
     "metadata": {},
     "output_type": "execute_result"
    }
   ],
   "source": [
    "model.fit(train_generator, epochs=3, validation_data=validation_generator, verbose=1)"
   ]
  },
  {
   "cell_type": "code",
   "execution_count": 13,
   "id": "1ec41e5b",
   "metadata": {},
   "outputs": [],
   "source": [
    "model.save('C:/Users/Christian Musni/Downloads/dataset/rice_crop_stress_classifier_effnetv2_large.h5')"
   ]
  },
  {
   "cell_type": "code",
   "execution_count": 15,
   "id": "69ab24cd",
   "metadata": {},
   "outputs": [
    {
     "name": "stdout",
     "output_type": "stream",
     "text": [
      "1/1 [==============================] - 3s 3s/step\n"
     ]
    }
   ],
   "source": [
    "from tensorflow.keras.preprocessing import image\n",
    "# Load an image for testing\n",
    "img_path = 'C:/Users/Christian Musni/Downloads/new/test.jpg'\n",
    "img = image.load_img(img_path, target_size=(150, 150))\n",
    "img_array = image.img_to_array(img)\n",
    "img_array = np.expand_dims(img_array, axis=0)\n",
    "\n",
    "# Make predictions\n",
    "predictions = model.predict(img_array)\n",
    "predicted_class = np.argmax(predictions)"
   ]
  },
  {
   "cell_type": "code",
   "execution_count": 16,
   "id": "237f46a9",
   "metadata": {},
   "outputs": [],
   "source": [
    "from tensorflow.keras.preprocessing import image\n",
    "import numpy as np\n",
    "\n",
    "def load_and_preprocess_image(image_path, target_size):\n",
    "    img = image.load_img(image_path, target_size=target_size)\n",
    "    img_array = image.img_to_array(img)\n",
    "    img_array = np.expand_dims(img_array, axis=0)\n",
    "    return img_array"
   ]
  },
  {
   "cell_type": "code",
   "execution_count": 20,
   "id": "0ffd5bb0",
   "metadata": {},
   "outputs": [
    {
     "name": "stdout",
     "output_type": "stream",
     "text": [
      "1/1 [==============================] - 0s 261ms/step\n"
     ]
    }
   ],
   "source": [
    "# Replace 'image_path' with the path to your test image\n",
    "image_path = 'C:/Users/Christian Musni/Downloads/new/test1.jpg'\n",
    "\n",
    "# Load and preprocess the image\n",
    "input_image = load_and_preprocess_image(image_path, target_size=(300, 300))  # Use the appropriate target size\n",
    "\n",
    "# Make predictions\n",
    "predictions = model.predict(input_image)"
   ]
  },
  {
   "cell_type": "code",
   "execution_count": 21,
   "id": "7c941c86",
   "metadata": {},
   "outputs": [
    {
     "name": "stdout",
     "output_type": "stream",
     "text": [
      "Predicted class: green_leaf_hopper\n",
      "Probability: 0.9993785619735718\n"
     ]
    }
   ],
   "source": [
    "import numpy as np\n",
    "\n",
    "# Assuming `class_names` is a list of your class labels\n",
    "class_names = ['blast', 'bacterial_leaf_blight', 'tungro', 'sheath_blight', 'brown_plant_hopper',\n",
    "               'green_leaf_hopper', 'yellow_stem_borer', 'stem_borer', 'false_smut', 'healthy']\n",
    "\n",
    "predicted_class = np.argmax(predictions)  # Get the index of the class with the highest probability\n",
    "predicted_label = class_names[predicted_class]  # Get the label using the index\n",
    "\n",
    "# Get the probability of the predicted class\n",
    "probability = predictions[0][predicted_class]  # Assuming predictions is of shape (1, num_classes)\n",
    "\n",
    "print(f\"Predicted class: {predicted_label}\")\n",
    "print(f\"Probability: {probability}\")"
   ]
  }
 ],
 "metadata": {
  "kernelspec": {
   "display_name": "Python 3 (ipykernel)",
   "language": "python",
   "name": "python3"
  },
  "language_info": {
   "codemirror_mode": {
    "name": "ipython",
    "version": 3
   },
   "file_extension": ".py",
   "mimetype": "text/x-python",
   "name": "python",
   "nbconvert_exporter": "python",
   "pygments_lexer": "ipython3",
   "version": "3.10.13"
  }
 },
 "nbformat": 4,
 "nbformat_minor": 5
}
